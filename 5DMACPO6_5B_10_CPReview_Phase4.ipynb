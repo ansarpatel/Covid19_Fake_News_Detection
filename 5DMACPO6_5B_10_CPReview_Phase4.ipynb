{
 "cells": [
  {
   "cell_type": "markdown",
   "metadata": {},
   "source": [
    "## *Course Name: Data Mining and Analysis*\n",
    "\n",
    "* Course Code: 18ECSC301\n",
    "* Project code: 5DMACP06\n",
    "* Team No.: 10\n",
    "\n",
    "## Title: *COVID-19 fake news detection*\n",
    "\n",
    "## *Team Members:*\n",
    "* Mohammed Ansar             01FE18BCS112\n",
    "* Mohammed zakee             01FE18BCS113\n",
    "* Khader Afghan              01FE19BCS417\n",
    "* Maruti Arer                01FE18BCS111\n",
    "\n"
   ]
  },
  {
   "cell_type": "markdown",
   "metadata": {
    "id": "9A40epdUAOLm"
   },
   "source": [
    "### **Import Libraries**\n",
    "* Imporing all the libraries which are required for the ML techniques"
   ]
  },
  {
   "cell_type": "code",
   "execution_count": 1,
   "metadata": {},
   "outputs": [],
   "source": [
    "import pandas as pd\n",
    "import nltk\n",
    "import re\n",
    "import csv\n",
    "from nltk.corpus import stopwords\n",
    "from nltk.stem import WordNetLemmatizer\n",
    "import matplotlib.pyplot as plt\n",
    "from sklearn.feature_extraction.text import CountVectorizer, TfidfTransformer\n",
    "from sklearn.metrics import classification_report,confusion_matrix\n",
    "from sklearn.metrics import accuracy_score, f1_score, precision_score, recall_score\n",
    "from sklearn.svm import LinearSVC\n",
    "from sklearn.pipeline import Pipeline\n",
    "from sklearn.linear_model import SGDClassifier, LogisticRegression\n",
    "from sklearn.neural_network import MLPClassifier\n",
    "from joblib import dump, load\n",
    "from sklearn.ensemble import GradientBoostingClassifier\n",
    "from sklearn.linear_model import PassiveAggressiveClassifier\n",
    "from sklearn.naive_bayes import MultinomialNB\n",
    "from sklearn import tree\n",
    "import numpy as np\n",
    "import itertools\n",
    "from xgboost import XGBClassifier\n",
    "from sklearn.model_selection import learning_curve\n",
    "from sklearn.metrics import mean_squared_error \n",
    "from sklearn.model_selection import train_test_split\n",
    "from sklearn.model_selection import validation_curve\n",
    "from sklearn.model_selection import learning_curve\n",
    "from sklearn.svm import SVC\n",
    "from sklearn.ensemble import AdaBoostClassifier\n",
    "import nltk\n",
    "import re\n"
   ]
  },
  {
   "cell_type": "markdown",
   "metadata": {},
   "source": [
    "### **Exploring Dataset**\n",
    "* Ploting the graph for the given datasets \n",
    "* Plotting the graph to determine % of fake and real news"
   ]
  },
  {
   "cell_type": "code",
   "execution_count": 2,
   "metadata": {},
   "outputs": [
    {
     "name": "stdout",
     "output_type": "stream",
     "text": [
      "Populating the interactive namespace from numpy and matplotlib\n"
     ]
    },
    {
     "name": "stderr",
     "output_type": "stream",
     "text": [
      "F:\\Python\\lib\\site-packages\\IPython\\core\\magics\\pylab.py:159: UserWarning: pylab import has clobbered these variables: ['load']\n",
      "`%matplotlib` prevents importing * from pylab and numpy\n",
      "  warn(\"pylab import has clobbered these variables: %s\"  % clobbered +\n"
     ]
    },
    {
     "data": {
      "image/png": "[encoded data removed]",
      "text/plain": [
       "<Figure size 432x288 with 1 Axes>"
      ]
     },
     "metadata": {},
     "output_type": "display_data"
    },
    {
     "name": "stdout",
     "output_type": "stream",
     "text": [
      "<class 'pandas.core.frame.DataFrame'>\n",
      "RangeIndex: 6420 entries, 0 to 6419\n",
      "Data columns (total 3 columns):\n",
      " #   Column  Non-Null Count  Dtype \n",
      "---  ------  --------------  ----- \n",
      " 0   id      6420 non-null   int64 \n",
      " 1   tweet   6420 non-null   object\n",
      " 2   label   6420 non-null   object\n",
      "dtypes: int64(1), object(2)\n",
      "memory usage: 150.6+ KB\n"
     ]
    },
    {
     "data": {
      "text/html": [
       "<div>\n",
       "<style scoped>\n",
       "    .dataframe tbody tr th:only-of-type {\n",
       "        vertical-align: middle;\n",
       "    }\n",
       "\n",
       "    .dataframe tbody tr th {\n",
       "        vertical-align: top;\n",
       "    }\n",
       "\n",
       "    .dataframe thead th {\n",
       "        text-align: right;\n",
       "    }\n",
       "</style>\n",
       "<table border=\"1\" class=\"dataframe\">\n",
       "  <thead>\n",
       "    <tr style=\"text-align: right;\">\n",
       "      <th></th>\n",
       "      <th>id</th>\n",
       "      <th>tweet</th>\n",
       "      <th>label</th>\n",
       "    </tr>\n",
       "  </thead>\n",
       "  <tbody>\n",
       "    <tr>\n",
       "      <th>0</th>\n",
       "      <td>1</td>\n",
       "      <td>The CDC currently reports 99031 deaths. In gen...</td>\n",
       "      <td>real</td>\n",
       "    </tr>\n",
       "    <tr>\n",
       "      <th>1</th>\n",
       "      <td>2</td>\n",
       "      <td>States reported 1121 deaths a small rise from ...</td>\n",
       "      <td>real</td>\n",
       "    </tr>\n",
       "    <tr>\n",
       "      <th>2</th>\n",
       "      <td>3</td>\n",
       "      <td>Politically Correct Woman (Almost) Uses Pandem...</td>\n",
       "      <td>fake</td>\n",
       "    </tr>\n",
       "    <tr>\n",
       "      <th>3</th>\n",
       "      <td>4</td>\n",
       "      <td>#IndiaFightsCorona: We have 1524 #COVID testin...</td>\n",
       "      <td>real</td>\n",
       "    </tr>\n",
       "    <tr>\n",
       "      <th>4</th>\n",
       "      <td>5</td>\n",
       "      <td>Populous states can generate large case counts...</td>\n",
       "      <td>real</td>\n",
       "    </tr>\n",
       "  </tbody>\n",
       "</table>\n",
       "</div>"
      ],
      "text/plain": [
       "   id                                              tweet label\n",
       "0   1  The CDC currently reports 99031 deaths. In gen...  real\n",
       "1   2  States reported 1121 deaths a small rise from ...  real\n",
       "2   3  Politically Correct Woman (Almost) Uses Pandem...  fake\n",
       "3   4  #IndiaFightsCorona: We have 1524 #COVID testin...  real\n",
       "4   5  Populous states can generate large case counts...  real"
      ]
     },
     "execution_count": 2,
     "metadata": {},
     "output_type": "execute_result"
    }
   ],
   "source": [
    "%pylab inline\n",
    "train = pd.read_csv('train.csv')\n",
    "val= pd.read_csv('validation.csv')\n",
    "test=pd.read_csv('test.csv')\n",
    "\n",
    "df=train['label'].value_counts()\n",
    "key=df.keys()\n",
    "labels=key\n",
    "s=[]\n",
    "for i in key:\n",
    "    s.append(df[i])\n",
    "explode=(0,0.1)\n",
    "plt.pie(s,explode=explode,labels=labels,autopct='%1.1f%%',shadow=True,startangle=90)\n",
    "plt.show()\n",
    "train.info()\n",
    "train.head()"
   ]
  },
  {
   "cell_type": "code",
   "execution_count": 3,
   "metadata": {
    "scrolled": true
   },
   "outputs": [
    {
     "data": {
      "image/png": "[encoded data removed]",
      "text/plain": [
       "<Figure size 432x288 with 1 Axes>"
      ]
     },
     "metadata": {},
     "output_type": "display_data"
    },
    {
     "name": "stdout",
     "output_type": "stream",
     "text": [
      "<class 'pandas.core.frame.DataFrame'>\n",
      "RangeIndex: 2140 entries, 0 to 2139\n",
      "Data columns (total 3 columns):\n",
      " #   Column  Non-Null Count  Dtype \n",
      "---  ------  --------------  ----- \n",
      " 0   id      2140 non-null   int64 \n",
      " 1   tweet   2140 non-null   object\n",
      " 2   label   2140 non-null   object\n",
      "dtypes: int64(1), object(2)\n",
      "memory usage: 50.3+ KB\n"
     ]
    },
    {
     "data": {
      "text/html": [
       "<div>\n",
       "<style scoped>\n",
       "    .dataframe tbody tr th:only-of-type {\n",
       "        vertical-align: middle;\n",
       "    }\n",
       "\n",
       "    .dataframe tbody tr th {\n",
       "        vertical-align: top;\n",
       "    }\n",
       "\n",
       "    .dataframe thead th {\n",
       "        text-align: right;\n",
       "    }\n",
       "</style>\n",
       "<table border=\"1\" class=\"dataframe\">\n",
       "  <thead>\n",
       "    <tr style=\"text-align: right;\">\n",
       "      <th></th>\n",
       "      <th>id</th>\n",
       "      <th>tweet</th>\n",
       "      <th>label</th>\n",
       "    </tr>\n",
       "  </thead>\n",
       "  <tbody>\n",
       "    <tr>\n",
       "      <th>0</th>\n",
       "      <td>1</td>\n",
       "      <td>Chinese converting to Islam after realising th...</td>\n",
       "      <td>fake</td>\n",
       "    </tr>\n",
       "    <tr>\n",
       "      <th>1</th>\n",
       "      <td>2</td>\n",
       "      <td>11 out of 13 people (from the Diamond Princess...</td>\n",
       "      <td>fake</td>\n",
       "    </tr>\n",
       "    <tr>\n",
       "      <th>2</th>\n",
       "      <td>3</td>\n",
       "      <td>COVID-19 Is Caused By A Bacterium, Not Virus A...</td>\n",
       "      <td>fake</td>\n",
       "    </tr>\n",
       "    <tr>\n",
       "      <th>3</th>\n",
       "      <td>4</td>\n",
       "      <td>Mike Pence in RNC speech praises Donald Trump’...</td>\n",
       "      <td>fake</td>\n",
       "    </tr>\n",
       "    <tr>\n",
       "      <th>4</th>\n",
       "      <td>5</td>\n",
       "      <td>6/10 Sky's @EdConwaySky explains the latest #C...</td>\n",
       "      <td>real</td>\n",
       "    </tr>\n",
       "  </tbody>\n",
       "</table>\n",
       "</div>"
      ],
      "text/plain": [
       "   id                                              tweet label\n",
       "0   1  Chinese converting to Islam after realising th...  fake\n",
       "1   2  11 out of 13 people (from the Diamond Princess...  fake\n",
       "2   3  COVID-19 Is Caused By A Bacterium, Not Virus A...  fake\n",
       "3   4  Mike Pence in RNC speech praises Donald Trump’...  fake\n",
       "4   5  6/10 Sky's @EdConwaySky explains the latest #C...  real"
      ]
     },
     "execution_count": 3,
     "metadata": {},
     "output_type": "execute_result"
    }
   ],
   "source": [
    "df=val['label'].value_counts()\n",
    "key=df.keys()\n",
    "labels=key\n",
    "s=[]\n",
    "for i in key:\n",
    "    s.append(df[i])\n",
    "explode=(0,0.1)\n",
    "plt.pie(s,explode=explode,labels=labels,autopct='%1.1f%%',shadow=True,startangle=90)\n",
    "plt.show()\n",
    "val.info()\n",
    "val.head()"
   ]
  },
  {
   "cell_type": "markdown",
   "metadata": {},
   "source": [
    "## Data-Preprocessing"
   ]
  },
  {
   "cell_type": "markdown",
   "metadata": {},
   "source": [
    "* Removing of links.\n",
    "* Removing of special characters like  â–¶ï, ðŸ, â€™@?\n",
    "* Removing hash tags.\n",
    "* Tokenization of words.\n",
    "* Removal of stopwords.\n",
    "* Lemmatization of words.\n",
    "* Using countvectorizer.\n",
    "* Using TFidF transformer for assigning frequency score of words."
   ]
  },
  {
   "cell_type": "code",
   "execution_count": 4,
   "metadata": {},
   "outputs": [],
   "source": [
    "stops = set(stopwords.words(\"english\"))\n",
    "ll = WordNetLemmatizer()\n",
    "def cleantext(string):\n",
    "    text = string.lower().split()\n",
    "    text = \" \".join(text)\n",
    "    text = re.sub(r\"#(\\S)+\",' ',text) \n",
    "    text = re.sub(r\"http(\\S)+\",' ',text)    \n",
    "    text = re.sub(r\"www(\\S)+\",' ',text)\n",
    "    text = re.sub(r\"&\",' and ',text)  \n",
    "    text = re.sub(r\"[^0-9a-zA-Z]+\",' ',text)\n",
    "    text = text.split()\n",
    "    text = [w for w in text if not w in stops]\n",
    "    #text = [ll.lemmatize(word) for word in text if not word in stopwords.words('english')]\n",
    "    text = \" \".join(text)\n",
    "    return text\n",
    "cv = CountVectorizer(max_features=100000,ngram_range=(1, 2))"
   ]
  },
  {
   "cell_type": "code",
   "execution_count": 5,
   "metadata": {},
   "outputs": [],
   "source": [
    "train['tweet'] = train['tweet'].map(lambda x: cleantext(x))\n",
    "val['tweet'] = val['tweet'].map(lambda x: cleantext(x))\n",
    "test['tweet'] = test['tweet'].map(lambda x: cleantext(x))\n"
   ]
  },
  {
   "cell_type": "markdown",
   "metadata": {},
   "source": [
    "## Model Building"
   ]
  },
  {
   "cell_type": "markdown",
   "metadata": {},
   "source": [
    "* LINEAR SVC"
   ]
  },
  {
   "cell_type": "code",
   "execution_count": 6,
   "metadata": {},
   "outputs": [],
   "source": [
    "pipeline = Pipeline([\n",
    "        ('bow',cv),  \n",
    "        ('tfidf', TfidfTransformer()),  \n",
    "        ('c', LinearSVC())\n",
    "    ])\n",
    "fit1 = pipeline.fit(train['tweet'],train['label'])\n",
    "predsvc=pipeline.predict(val['tweet'])"
   ]
  },
  {
   "cell_type": "markdown",
   "metadata": {},
   "source": [
    "* LOGISTIC REGRESSION"
   ]
  },
  {
   "cell_type": "code",
   "execution_count": 7,
   "metadata": {},
   "outputs": [],
   "source": [
    "pipeline = Pipeline([\n",
    "        ('bow', cv),  \n",
    "        ('tfidf', TfidfTransformer()),  \n",
    "        ('c', LogisticRegression())\n",
    "    ])\n",
    "fit = pipeline.fit(train['tweet'],train['label'])\n",
    "predlr=pipeline.predict(val['tweet'])"
   ]
  },
  {
   "cell_type": "markdown",
   "metadata": {},
   "source": [
    "* PASSIVE AGGRESSIVE CLASSIFIER"
   ]
  },
  {
   "cell_type": "code",
   "execution_count": 8,
   "metadata": {},
   "outputs": [],
   "source": [
    "pipeline = Pipeline([\n",
    "        ('bow', cv),  \n",
    "        ('tfidf', TfidfTransformer()),  \n",
    "        ('c', PassiveAggressiveClassifier(max_iter=50))\n",
    "    ])\n",
    "fit = pipeline.fit(train['tweet'],train['label'])\n",
    "predpa=pipeline.predict(val['tweet'])"
   ]
  },
  {
   "cell_type": "markdown",
   "metadata": {},
   "source": [
    "* MULTINOMIAL NAIVE BAYES CLASSIFIER"
   ]
  },
  {
   "cell_type": "code",
   "execution_count": 9,
   "metadata": {},
   "outputs": [],
   "source": [
    "pipeline = Pipeline([\n",
    "        ('bow', cv),  \n",
    "        ('tfidf', TfidfTransformer()),  \n",
    "        ('c', MultinomialNB())\n",
    "    ])\n",
    "fit = pipeline.fit(train['tweet'],train['label'])\n",
    "predmnb=pipeline.predict(val['tweet'])"
   ]
  },
  {
   "cell_type": "markdown",
   "metadata": {},
   "source": [
    "* GRADIENT BOOST CLASSIFIER"
   ]
  },
  {
   "cell_type": "code",
   "execution_count": 10,
   "metadata": {},
   "outputs": [],
   "source": [
    "pipeline = Pipeline([\n",
    "        ('bow',cv),  \n",
    "        ('tfidf', TfidfTransformer()),  \n",
    "        ('c', GradientBoostingClassifier())\n",
    "    ])\n",
    "fit = pipeline.fit(train['tweet'],train['label'])\n",
    "predgb=pipeline.predict(val['tweet'])"
   ]
  },
  {
   "cell_type": "markdown",
   "metadata": {},
   "source": [
    "* XG BOOST CLASSIFIER"
   ]
  },
  {
   "cell_type": "code",
   "execution_count": 11,
   "metadata": {},
   "outputs": [],
   "source": [
    "pipeline = Pipeline([\n",
    "        ('bow',cv),  \n",
    "        ('tfidf', TfidfTransformer()),  \n",
    "        ('c', XGBClassifier())\n",
    "    ])\n",
    "fit = pipeline.fit(train['tweet'],train['label'])\n",
    "predxg=pipeline.predict(val['tweet'])\n"
   ]
  },
  {
   "cell_type": "markdown",
   "metadata": {},
   "source": [
    "* DECISION TREE CLASSIFIER"
   ]
  },
  {
   "cell_type": "code",
   "execution_count": 12,
   "metadata": {},
   "outputs": [],
   "source": [
    "pipeline = Pipeline([\n",
    "        ('bow', cv),  \n",
    "        ('tfidf', TfidfTransformer()),  \n",
    "        ('c', tree.DecisionTreeClassifier())\n",
    "    ])\n",
    "fit = pipeline.fit(train['tweet'],train['label'])\n",
    "preddt = pipeline.predict(val['tweet'])"
   ]
  },
  {
   "cell_type": "markdown",
   "metadata": {},
   "source": [
    "* ADA BOOST CLASSIFIER"
   ]
  },
  {
   "cell_type": "code",
   "execution_count": 13,
   "metadata": {},
   "outputs": [],
   "source": [
    "abc = AdaBoostClassifier(n_estimators=500,\n",
    "                         learning_rate=1)\n",
    "pipeline = Pipeline([\n",
    "        ('bow', cv),  \n",
    "        ('tfidf', TfidfTransformer()),  \n",
    "        ('d', abc)\n",
    "    ])\n",
    "fit = pipeline.fit(train['tweet'],train['label'])\n",
    "predab = pipeline.predict(val['tweet'])"
   ]
  },
  {
   "cell_type": "markdown",
   "metadata": {},
   "source": [
    "## BIAS-VARIANCE TRADEOFF AND CONFUSION MATRIX"
   ]
  },
  {
   "cell_type": "markdown",
   "metadata": {},
   "source": [
    "* Function for ploting confusion matrix"
   ]
  },
  {
   "cell_type": "code",
   "execution_count": 14,
   "metadata": {},
   "outputs": [],
   "source": [
    "def plot_confusion_matrix(cm,\n",
    "                          target_names,\n",
    "                          title='Confusion matrix',\n",
    "                          cmap=None,\n",
    "                          normalize=True):\n",
    "    \n",
    "    accuracy = np.trace(cm) / float(np.sum(cm))\n",
    "    misclass = 1 - accuracy\n",
    "\n",
    "    if cmap is None:\n",
    "        cmap = plt.get_cmap('Blues')\n",
    "\n",
    "    plt.figure(figsize=(5, 4))\n",
    "    plt.imshow(cm, interpolation='nearest', cmap=cmap)\n",
    "    plt.title(title)\n",
    "    plt.colorbar()\n",
    "\n",
    "    if target_names is not None:\n",
    "        tick_marks = np.arange(len(target_names))\n",
    "        plt.xticks(tick_marks, target_names, rotation=45)\n",
    "        plt.yticks(tick_marks, target_names)\n",
    "\n",
    "    if normalize:\n",
    "        cm = cm.astype('float') / cm.sum(axis=1)[:, np.newaxis]\n",
    "\n",
    "\n",
    "    thresh = cm.max() / 1.5 if normalize else cm.max() / 2\n",
    "    for i, j in itertools.product(range(cm.shape[0]), range(cm.shape[1])):\n",
    "        if normalize:\n",
    "            plt.text(j, i, \"{:0.4f}\".format(cm[i, j]),\n",
    "                     horizontalalignment=\"center\",\n",
    "                     color=\"white\" if cm[i, j] > thresh else \"black\")\n",
    "        else:\n",
    "            plt.text(j, i, \"{:,}\".format(cm[i, j]),\n",
    "                     horizontalalignment=\"center\",\n",
    "                     color=\"white\" if cm[i, j] > thresh else \"black\")\n",
    "\n",
    "\n",
    "    plt.tight_layout()\n",
    "    plt.ylabel('True label')\n",
    "    plt.xlabel('Predicted label')\n",
    "    plt.show()"
   ]
  },
  {
   "cell_type": "markdown",
   "metadata": {},
   "source": [
    "* Function to print performance metrices"
   ]
  },
  {
   "cell_type": "code",
   "execution_count": 15,
   "metadata": {},
   "outputs": [],
   "source": [
    "def print_metrices(pred,true):\n",
    "    print(confusion_matrix(true,pred))\n",
    "    print(classification_report(true,pred,))\n",
    "    print(\"Accuracy : \",accuracy_score(pred,true))\n",
    "    print(\"Precison : \",precision_score(pred,true, average = 'weighted'))\n",
    "    print(\"Recall : \",recall_score(pred,true,  average = 'weighted'))\n",
    "    print(\"F1 : \",f1_score(pred,true,  average = 'weighted'))    "
   ]
  },
  {
   "cell_type": "markdown",
   "metadata": {},
   "source": [
    "* LINEAR SVC "
   ]
  },
  {
   "cell_type": "code",
   "execution_count": 18,
   "metadata": {},
   "outputs": [
    {
     "name": "stdout",
     "output_type": "stream",
     "text": [
      "[[ 962   58]\n",
      " [  66 1054]]\n",
      "              precision    recall  f1-score   support\n",
      "\n",
      "        fake       0.94      0.94      0.94      1020\n",
      "        real       0.95      0.94      0.94      1120\n",
      "\n",
      "    accuracy                           0.94      2140\n",
      "   macro avg       0.94      0.94      0.94      2140\n",
      "weighted avg       0.94      0.94      0.94      2140\n",
      "\n",
      "Accuracy :  0.9420560747663551\n",
      "Precison :  0.9420637974816094\n",
      "Recall :  0.9420560747663551\n",
      "F1 :  0.9420467451973\n"
     ]
    },
    {
     "data": {
      "image/png": "[encoded data removed]",
      "text/plain": [
       "<Figure size 360x288 with 2 Axes>"
      ]
     },
     "metadata": {
      "needs_background": "light"
     },
     "output_type": "display_data"
    },
    {
     "name": "stdout",
     "output_type": "stream",
     "text": [
      "0.8271028037383178\n",
      "0.8644859813084113\n",
      "0.8901869158878505\n",
      "0.8878504672897196\n",
      "0.9135514018691588\n"
     ]
    },
    {
     "data": {
      "image/png": "[encoded data removed]",
      "text/plain": [
       "<Figure size 432x288 with 1 Axes>"
      ]
     },
     "metadata": {
      "needs_background": "light"
     },
     "output_type": "display_data"
    }
   ],
   "source": [
    "print_metrices(predsvc,val['label'])\n",
    "plot_confusion_matrix(confusion_matrix(val['label'],predsvc),target_names=['fake','real'], normalize = False, title = 'Confusion matix of SVM on val data')\n",
    "X=val['tweet']\n",
    "y=val['label']\n",
    "pi = Pipeline([\n",
    "        ('bow', cv),  \n",
    "        ('tfidf', TfidfTransformer()),  \n",
    "        ('c', LinearSVC())\n",
    "    ])\n",
    "train_sizes, train_scores, valid_scores = learning_curve(pi, X, y, train_sizes=[214,428,642,856,1712], cv=5)\n",
    "k=[10,20,40,80,100]\n",
    "j=[0,1,2,3,4]\n",
    "t_s=[]\n",
    "v_s=[]\n",
    "for i in j:\n",
    "    t_s.append(train_scores[i][0])\n",
    "    v_s.append(valid_scores[i][0])\n",
    "    print(valid_scores[i][0])\n",
    "plt.plot(k, t_s, label = \"train\")\n",
    "plt.plot(k, v_s, label = \"test\")\n",
    "plt.ylim(0,1.05)\n",
    "plt.legend() \n",
    "plt.show()"
   ]
  },
  {
   "cell_type": "markdown",
   "metadata": {},
   "source": [
    "* LOGISTIC REGRESSION"
   ]
  },
  {
   "cell_type": "code",
   "execution_count": 19,
   "metadata": {},
   "outputs": [
    {
     "name": "stdout",
     "output_type": "stream",
     "text": [
      "[[ 942   78]\n",
      " [  89 1031]]\n",
      "              precision    recall  f1-score   support\n",
      "\n",
      "        fake       0.91      0.92      0.92      1020\n",
      "        real       0.93      0.92      0.93      1120\n",
      "\n",
      "    accuracy                           0.92      2140\n",
      "   macro avg       0.92      0.92      0.92      2140\n",
      "weighted avg       0.92      0.92      0.92      2140\n",
      "\n",
      "Accuracy :  0.9219626168224299\n",
      "Precison :  0.9219780049870415\n",
      "Recall :  0.9219626168224299\n",
      "F1 :  0.9219459055445536\n"
     ]
    },
    {
     "data": {
      "image/png": "[encoded data removed]",
      "text/plain": [
       "<Figure size 360x288 with 2 Axes>"
      ]
     },
     "metadata": {
      "needs_background": "light"
     },
     "output_type": "display_data"
    },
    {
     "name": "stdout",
     "output_type": "stream",
     "text": [
      "0.7546728971962616\n",
      "0.852803738317757\n",
      "0.8691588785046729\n",
      "0.8761682242990654\n",
      "0.897196261682243\n"
     ]
    },
    {
     "data": {
      "image/png": "[encoded data removed]",
      "text/plain": [
       "<Figure size 432x288 with 1 Axes>"
      ]
     },
     "metadata": {
      "needs_background": "light"
     },
     "output_type": "display_data"
    }
   ],
   "source": [
    "print_metrices(predlr,val['label'])\n",
    "plot_confusion_matrix(confusion_matrix(val['label'],predlr),target_names=['fake','real'], normalize = False, title = 'Confusion matix of LR on val data')\n",
    "X=val['tweet']\n",
    "y=val['label']\n",
    "pi = Pipeline([\n",
    "        ('bow', cv),  \n",
    "        ('tfidf', TfidfTransformer()),  \n",
    "        ('c', LogisticRegression())\n",
    "    ])\n",
    "train_sizes, train_scores, valid_scores = learning_curve(pi, X, y, train_sizes=[214,428,642,856,1712], cv=5)\n",
    "k=[10,20,40,80,100]\n",
    "j=[0,1,2,3,4]\n",
    "t_s=[]\n",
    "v_s=[]\n",
    "for i in j:\n",
    "    t_s.append(train_scores[i][0])\n",
    "    v_s.append(valid_scores[i][0])\n",
    "    print(valid_scores[i][0])\n",
    "\n",
    "plt.plot(k, t_s, label = \"train\")\n",
    "plt.plot(k, v_s, label = \"test\")\n",
    "plt.ylim(0,1.05)\n",
    "plt.legend() \n",
    "plt.show()"
   ]
  },
  {
   "cell_type": "markdown",
   "metadata": {},
   "source": [
    "* PASSIVE AGGRESSIVE CLASSIFIER"
   ]
  },
  {
   "cell_type": "code",
   "execution_count": 20,
   "metadata": {},
   "outputs": [
    {
     "name": "stdout",
     "output_type": "stream",
     "text": [
      "[[ 953   67]\n",
      " [  64 1056]]\n",
      "              precision    recall  f1-score   support\n",
      "\n",
      "        fake       0.94      0.93      0.94      1020\n",
      "        real       0.94      0.94      0.94      1120\n",
      "\n",
      "    accuracy                           0.94      2140\n",
      "   macro avg       0.94      0.94      0.94      2140\n",
      "weighted avg       0.94      0.94      0.94      2140\n",
      "\n",
      "Accuracy :  0.938785046728972\n",
      "Precison :  0.9387970234822901\n",
      "Recall :  0.938785046728972\n",
      "F1 :  0.9387891866847217\n"
     ]
    },
    {
     "data": {
      "image/png": "[encoded data removed]",
      "text/plain": [
       "<Figure size 360x288 with 2 Axes>"
      ]
     },
     "metadata": {
      "needs_background": "light"
     },
     "output_type": "display_data"
    },
    {
     "name": "stdout",
     "output_type": "stream",
     "text": [
      "0.8341121495327103\n",
      "0.8644859813084113\n",
      "0.8925233644859814\n",
      "0.8901869158878505\n",
      "0.9182242990654206\n"
     ]
    },
    {
     "data": {
      "image/png": "[encoded data removed]",
      "text/plain": [
       "<Figure size 432x288 with 1 Axes>"
      ]
     },
     "metadata": {
      "needs_background": "light"
     },
     "output_type": "display_data"
    }
   ],
   "source": [
    "print_metrices(predpa,val['label'])\n",
    "plot_confusion_matrix(confusion_matrix(val['label'],predpa),target_names=['fake','real'], normalize = False, title = 'Confusion matix of PA on val data')\n",
    "X=val['tweet']\n",
    "y=val['label']\n",
    "pi = Pipeline([\n",
    "        ('bow', cv),  \n",
    "        ('tfidf', TfidfTransformer()),  \n",
    "        ('c',  PassiveAggressiveClassifier(max_iter=50))\n",
    "    ])\n",
    "train_sizes, train_scores, valid_scores = learning_curve(pi, X, y, train_sizes=[214,428,642,856,1712], cv=5)\n",
    "k=[10,20,40,80,100]\n",
    "j=[0,1,2,3,4]\n",
    "t_s=[]\n",
    "v_s=[]\n",
    "for i in j:\n",
    "    t_s.append(train_scores[i][0])\n",
    "    v_s.append(valid_scores[i][0])\n",
    "    print(valid_scores[i][0])\n",
    "\n",
    "plt.plot(k, t_s, label = \"train\")\n",
    "plt.plot(k, v_s, label = \"test\")\n",
    "plt.ylim(0,1.05)\n",
    "plt.legend() \n",
    "plt.show()"
   ]
  },
  {
   "cell_type": "markdown",
   "metadata": {},
   "source": [
    "* MULTINOMIAL NAIVE BAYES CLASSIFIER"
   ]
  },
  {
   "cell_type": "code",
   "execution_count": 21,
   "metadata": {},
   "outputs": [
    {
     "name": "stdout",
     "output_type": "stream",
     "text": [
      "[[ 879  141]\n",
      " [  41 1079]]\n",
      "              precision    recall  f1-score   support\n",
      "\n",
      "        fake       0.96      0.86      0.91      1020\n",
      "        real       0.88      0.96      0.92      1120\n",
      "\n",
      "    accuracy                           0.91      2140\n",
      "   macro avg       0.92      0.91      0.91      2140\n",
      "weighted avg       0.92      0.91      0.91      2140\n",
      "\n",
      "Accuracy :  0.9149532710280374\n",
      "Precison :  0.9197022500589022\n",
      "Recall :  0.9149532710280374\n",
      "F1 :  0.9153279592339233\n"
     ]
    },
    {
     "data": {
      "image/png": "[encoded data removed]",
      "text/plain": [
       "<Figure size 360x288 with 2 Axes>"
      ]
     },
     "metadata": {
      "needs_background": "light"
     },
     "output_type": "display_data"
    },
    {
     "name": "stdout",
     "output_type": "stream",
     "text": [
      "0.7523364485981309\n",
      "0.8364485981308412\n",
      "0.8598130841121495\n",
      "0.8434579439252337\n",
      "0.897196261682243\n"
     ]
    },
    {
     "data": {
      "image/png": "[encoded data removed]",
      "text/plain": [
       "<Figure size 432x288 with 1 Axes>"
      ]
     },
     "metadata": {
      "needs_background": "light"
     },
     "output_type": "display_data"
    }
   ],
   "source": [
    "print_metrices(predmnb,val['label'])\n",
    "plot_confusion_matrix(confusion_matrix(val['label'],predmnb),target_names=['fake','real'], normalize = False, title = 'Confusion matix of MNB on val data')\n",
    "X=val['tweet']\n",
    "y=val['label']\n",
    "pi = Pipeline([\n",
    "        ('bow', cv),  \n",
    "        ('tfidf', TfidfTransformer()),  \n",
    "        ('c',  MultinomialNB())\n",
    "    ])\n",
    "train_sizes, train_scores, valid_scores = learning_curve(pi, X, y, train_sizes=[214,428,642,856,1712], cv=5)\n",
    "k=[10,20,40,80,100]\n",
    "j=[0,1,2,3,4]\n",
    "t_s=[]\n",
    "v_s=[]\n",
    "for i in j:\n",
    "    t_s.append(train_scores[i][0])\n",
    "    v_s.append(valid_scores[i][0])\n",
    "    print(valid_scores[i][0])\n",
    "\n",
    "plt.plot(k, t_s, label = \"train\")\n",
    "plt.plot(k, v_s, label = \"test\")\n",
    "plt.ylim(0,1.05)\n",
    "plt.legend() \n",
    "plt.show() "
   ]
  },
  {
   "cell_type": "markdown",
   "metadata": {},
   "source": [
    "* GRADIENT BOOST CLASSIFIER"
   ]
  },
  {
   "cell_type": "code",
   "execution_count": 22,
   "metadata": {},
   "outputs": [
    {
     "name": "stdout",
     "output_type": "stream",
     "text": [
      "[[911 109]\n",
      " [169 951]]\n",
      "              precision    recall  f1-score   support\n",
      "\n",
      "        fake       0.84      0.89      0.87      1020\n",
      "        real       0.90      0.85      0.87      1120\n",
      "\n",
      "    accuracy                           0.87      2140\n",
      "   macro avg       0.87      0.87      0.87      2140\n",
      "weighted avg       0.87      0.87      0.87      2140\n",
      "\n",
      "Accuracy :  0.8700934579439252\n",
      "Precison :  0.8713279470666772\n",
      "Recall :  0.8700934579439252\n",
      "F1 :  0.8700253549074607\n"
     ]
    },
    {
     "data": {
      "image/png": "[encoded data removed]",
      "text/plain": [
       "<Figure size 360x288 with 2 Axes>"
      ]
     },
     "metadata": {
      "needs_background": "light"
     },
     "output_type": "display_data"
    },
    {
     "name": "stdout",
     "output_type": "stream",
     "text": [
      "0.764018691588785\n",
      "0.8130841121495327\n",
      "0.8411214953271028\n",
      "0.8504672897196262\n",
      "0.8551401869158879\n"
     ]
    },
    {
     "data": {
      "image/png": "[encoded data removed]",
      "text/plain": [
       "<Figure size 432x288 with 1 Axes>"
      ]
     },
     "metadata": {
      "needs_background": "light"
     },
     "output_type": "display_data"
    }
   ],
   "source": [
    "print_metrices(predgb,val['label'])\n",
    "plot_confusion_matrix(confusion_matrix(val['label'],predgb),target_names=['fake','real'], normalize = False, title = 'Confusion matix of GB on val data')\n",
    "X=val['tweet']\n",
    "y=val['label']\n",
    "pi = Pipeline([\n",
    "        ('bow', cv),  \n",
    "        ('tfidf', TfidfTransformer()),  \n",
    "        ('c',  GradientBoostingClassifier())\n",
    "    ])\n",
    "train_sizes, train_scores, valid_scores = learning_curve(pi, X, y, train_sizes=[214,428,642,856,1712], cv=5)\n",
    "k=[10,20,40,80,100]\n",
    "j=[0,1,2,3,4]\n",
    "t_s=[]\n",
    "v_s=[]\n",
    "for i in j:\n",
    "    t_s.append(train_scores[i][0])\n",
    "    v_s.append(valid_scores[i][0])\n",
    "    print(valid_scores[i][0])\n",
    "\n",
    "plt.plot(k, t_s, label = \"train\")\n",
    "plt.plot(k, v_s, label = \"test\")\n",
    "plt.ylim(0,1.05)\n",
    "plt.legend() \n",
    "plt.show() "
   ]
  },
  {
   "cell_type": "markdown",
   "metadata": {},
   "source": [
    "* XG BOOST CLASSIFIER"
   ]
  },
  {
   "cell_type": "code",
   "execution_count": 23,
   "metadata": {},
   "outputs": [
    {
     "name": "stdout",
     "output_type": "stream",
     "text": [
      "[[936  84]\n",
      " [141 979]]\n",
      "              precision    recall  f1-score   support\n",
      "\n",
      "        fake       0.87      0.92      0.89      1020\n",
      "        real       0.92      0.87      0.90      1120\n",
      "\n",
      "    accuracy                           0.89      2140\n",
      "   macro avg       0.90      0.90      0.89      2140\n",
      "weighted avg       0.90      0.89      0.89      2140\n",
      "\n",
      "Accuracy :  0.8948598130841121\n",
      "Precison :  0.8960195211262074\n",
      "Recall :  0.8948598130841121\n",
      "F1 :  0.8948035193717345\n"
     ]
    },
    {
     "data": {
      "image/png": "[encoded data removed]",
      "text/plain": [
       "<Figure size 360x288 with 2 Axes>"
      ]
     },
     "metadata": {
      "needs_background": "light"
     },
     "output_type": "display_data"
    },
    {
     "name": "stdout",
     "output_type": "stream",
     "text": [
      "0.7523364485981309\n",
      "0.7827102803738317\n",
      "0.8317757009345794\n",
      "0.8387850467289719\n",
      "0.852803738317757\n"
     ]
    },
    {
     "data": {
      "image/png": "[encoded data removed]",
      "text/plain": [
       "<Figure size 432x288 with 1 Axes>"
      ]
     },
     "metadata": {
      "needs_background": "light"
     },
     "output_type": "display_data"
    }
   ],
   "source": [
    "print_metrices(predxg,val['label'])\n",
    "plot_confusion_matrix(confusion_matrix(val['label'],predxg),target_names=['fake','real'], normalize = False, title = 'Confusion matix of XGB on val data')\n",
    "X=val['tweet']\n",
    "y=val['label']\n",
    "pi = Pipeline([\n",
    "        ('bow', cv),  \n",
    "        ('tfidf', TfidfTransformer()),  \n",
    "        ('c',  XGBClassifier())\n",
    "    ])\n",
    "train_sizes, train_scores, valid_scores = learning_curve(pi, X, y, train_sizes=[214,428,642,856,1712], cv=5)\n",
    "k=[10,20,40,80,100]\n",
    "j=[0,1,2,3,4]\n",
    "t_s=[]\n",
    "v_s=[]\n",
    "for i in j:\n",
    "    t_s.append(train_scores[i][0])\n",
    "    v_s.append(valid_scores[i][0])\n",
    "    print(valid_scores[i][0])\n",
    "\n",
    "plt.plot(k, t_s, label = \"train\")\n",
    "plt.plot(k, v_s, label = \"test\")\n",
    "plt.ylim(0,1.05)\n",
    "plt.legend() \n",
    "plt.show() "
   ]
  },
  {
   "cell_type": "markdown",
   "metadata": {},
   "source": [
    "* DECISION TREE CLASSIFIER"
   ]
  },
  {
   "cell_type": "code",
   "execution_count": 24,
   "metadata": {},
   "outputs": [
    {
     "name": "stdout",
     "output_type": "stream",
     "text": [
      "[[861 159]\n",
      " [164 956]]\n",
      "              precision    recall  f1-score   support\n",
      "\n",
      "        fake       0.84      0.84      0.84      1020\n",
      "        real       0.86      0.85      0.86      1120\n",
      "\n",
      "    accuracy                           0.85      2140\n",
      "   macro avg       0.85      0.85      0.85      2140\n",
      "weighted avg       0.85      0.85      0.85      2140\n",
      "\n",
      "Accuracy :  0.8490654205607476\n",
      "Precison :  0.8490433322861854\n",
      "Recall :  0.8490654205607476\n",
      "F1 :  0.8490497345857372\n"
     ]
    },
    {
     "data": {
      "image/png": "[encoded data removed]",
      "text/plain": [
       "<Figure size 360x288 with 2 Axes>"
      ]
     },
     "metadata": {
      "needs_background": "light"
     },
     "output_type": "display_data"
    },
    {
     "name": "stdout",
     "output_type": "stream",
     "text": [
      "0.7149532710280374\n",
      "0.7313084112149533\n",
      "0.7710280373831776\n",
      "0.8084112149532711\n",
      "0.8200934579439252\n"
     ]
    },
    {
     "data": {
      "image/png": "[encoded data removed]",
      "text/plain": [
       "<Figure size 432x288 with 1 Axes>"
      ]
     },
     "metadata": {
      "needs_background": "light"
     },
     "output_type": "display_data"
    }
   ],
   "source": [
    "print_metrices(preddt,val['label'])\n",
    "plot_confusion_matrix(confusion_matrix(val['label'],preddt),target_names=['fake','real'], normalize = False, title = 'Confusion matix of DT on val data')\n",
    "X=val['tweet']\n",
    "y=val['label']\n",
    "pi = Pipeline([\n",
    "        ('bow', cv),  \n",
    "        ('tfidf', TfidfTransformer()),  \n",
    "        ('c', tree.DecisionTreeClassifier())\n",
    "    ])\n",
    "train_sizes, train_scores, valid_scores = learning_curve(pi, X, y, train_sizes=[214,428,642,856,1712], cv=5)\n",
    "k=[10,20,80,80,100]\n",
    "j=[0,1,2,3,4]\n",
    "t_s=[]\n",
    "v_s=[]\n",
    "for i in j:\n",
    "    t_s.append(train_scores[i][0])\n",
    "    v_s.append(valid_scores[i][0])\n",
    "    print(valid_scores[i][0])\n",
    "\n",
    "plt.plot(k, t_s, label = \"train\")\n",
    "plt.plot(k, v_s, label = \"test\")\n",
    "plt.ylim(0,1.05)\n",
    "plt.legend() \n",
    "plt.show() "
   ]
  },
  {
   "cell_type": "markdown",
   "metadata": {},
   "source": [
    "* ADA BOOST CLASSIFIER"
   ]
  },
  {
   "cell_type": "code",
   "execution_count": 25,
   "metadata": {},
   "outputs": [
    {
     "name": "stdout",
     "output_type": "stream",
     "text": [
      "[[910 110]\n",
      " [121 999]]\n",
      "              precision    recall  f1-score   support\n",
      "\n",
      "        fake       0.88      0.89      0.89      1020\n",
      "        real       0.90      0.89      0.90      1120\n",
      "\n",
      "    accuracy                           0.89      2140\n",
      "   macro avg       0.89      0.89      0.89      2140\n",
      "weighted avg       0.89      0.89      0.89      2140\n",
      "\n",
      "Accuracy :  0.8920560747663552\n",
      "Precison :  0.8920570646482893\n",
      "Recall :  0.8920560747663552\n",
      "F1 :  0.8920329591664183\n"
     ]
    },
    {
     "data": {
      "image/png": "[encoded data removed]",
      "text/plain": [
       "<Figure size 360x288 with 2 Axes>"
      ]
     },
     "metadata": {
      "needs_background": "light"
     },
     "output_type": "display_data"
    },
    {
     "name": "stdout",
     "output_type": "stream",
     "text": [
      "0.7710280373831776\n",
      "0.8060747663551402\n",
      "0.822429906542056\n",
      "0.8107476635514018\n",
      "0.866822429906542\n"
     ]
    },
    {
     "data": {
      "image/png": "[encoded data removed]",
      "text/plain": [
       "<Figure size 432x288 with 1 Axes>"
      ]
     },
     "metadata": {
      "needs_background": "light"
     },
     "output_type": "display_data"
    }
   ],
   "source": [
    "print_metrices(predab,val['label'])\n",
    "plot_confusion_matrix(confusion_matrix(val['label'],predab),target_names=['fake','real'], normalize = False, title = 'Confusion matix of ADA on val data')\n",
    "X=val['tweet']\n",
    "y=val['label']\n",
    "pi = Pipeline([\n",
    "        ('bow', cv),  \n",
    "        ('tfidf', TfidfTransformer()),  \n",
    "        ('c', AdaBoostClassifier(n_estimators=500,\n",
    "                         learning_rate=1))\n",
    "    ])\n",
    "train_sizes, train_scores, valid_scores = learning_curve(pi, X, y, train_sizes=[214,428,642,856,1712], cv=5)\n",
    "k=[10,20,40,80,100]\n",
    "j=[0,1,2,3,4]\n",
    "t_s=[]\n",
    "v_s=[]\n",
    "for i in j:\n",
    "    t_s.append(train_scores[i][0])\n",
    "    v_s.append(valid_scores[i][0])\n",
    "    print(valid_scores[i][0])\n",
    "\n",
    "plt.plot(k, t_s, label = \"train\")\n",
    "plt.plot(k, v_s, label = \"test\")\n",
    "plt.ylim(0,1.05)\n",
    "plt.legend() \n",
    "plt.show() "
   ]
  },
  {
   "cell_type": "markdown",
   "metadata": {},
   "source": [
    "## LONG-SHORT TERM MEMORY"
   ]
  },
  {
   "cell_type": "markdown",
   "metadata": {},
   "source": [
    "* Importing Libraries"
   ]
  },
  {
   "cell_type": "code",
   "execution_count": null,
   "metadata": {},
   "outputs": [],
   "source": [
    "from tensorflow.keras.layers import Embedding\n",
    "from tensorflow.keras.preprocessing.sequence import pad_sequences\n",
    "from tensorflow.keras.models import Sequential\n",
    "from tensorflow.keras.preprocessing.text import one_hot\n",
    "from tensorflow.keras.layers import LSTM\n",
    "from tensorflow.keras.layers import Dense\n",
    "from tensorflow.keras.layers import Embedding,LSTM,Dense,Dropout\n",
    "import tensorflow as tf\n",
    "nltk.download('stopwords')\n",
    "from tensorflow.keras.layers import Dropout\n",
    "from tensorflow.keras.layers import Bidirectional\n",
    "from sklearn.metrics import confusion_matrix\n",
    "from sklearn.metrics import accuracy_score\n"
   ]
  },
  {
   "cell_type": "markdown",
   "metadata": {},
   "source": [
    "* READING CSV FILE"
   ]
  },
  {
   "cell_type": "code",
   "execution_count": 25,
   "metadata": {},
   "outputs": [],
   "source": [
    "df=pd.read_csv('train - Copy.csv')\n",
    "df.head()"
   ]
  },
  {
   "cell_type": "markdown",
   "metadata": {},
   "source": [
    "* Drop Nan Values"
   ]
  },
  {
   "cell_type": "code",
   "execution_count": 27,
   "metadata": {},
   "outputs": [],
   "source": [
    "df=df.dropna()"
   ]
  },
  {
   "cell_type": "markdown",
   "metadata": {},
   "source": [
    "* Get the Independent Features"
   ]
  },
  {
   "cell_type": "code",
   "execution_count": 28,
   "metadata": {},
   "outputs": [],
   "source": [
    "X=df.drop('label',axis=1)"
   ]
  },
  {
   "cell_type": "markdown",
   "metadata": {},
   "source": [
    "* Get the Dependent features"
   ]
  },
  {
   "cell_type": "code",
   "execution_count": 29,
   "metadata": {},
   "outputs": [],
   "source": [
    "y=df['label']"
   ]
  },
  {
   "cell_type": "markdown",
   "metadata": {},
   "source": [
    "* Vocabulary size"
   ]
  },
  {
   "cell_type": "code",
   "execution_count": 33,
   "metadata": {},
   "outputs": [],
   "source": [
    "voc_size=5000"
   ]
  },
  {
   "cell_type": "markdown",
   "metadata": {},
   "source": [
    "* Creating copy of dataframe"
   ]
  },
  {
   "cell_type": "code",
   "execution_count": 34,
   "metadata": {},
   "outputs": [],
   "source": [
    "messages=X.copy()\n",
    "messages.reset_index(inplace=True)\n"
   ]
  },
  {
   "cell_type": "markdown",
   "metadata": {},
   "source": [
    "* Dataset Preprocessing"
   ]
  },
  {
   "cell_type": "code",
   "execution_count": 37,
   "metadata": {},
   "outputs": [],
   "source": [
    "corpus = []\n",
    "for i in range(0, len(messages['tweet'])):\n",
    "    review=cleantext(messages['tweet'][i])\n",
    "    corpus.append(review)\n",
    "onehot_repr=[one_hot(words,voc_size)for words in corpus] \n",
    "onehot_repr"
   ]
  },
  {
   "cell_type": "code",
   "execution_count": 40,
   "metadata": {},
   "outputs": [
    {
     "name": "stdout",
     "output_type": "stream",
     "text": [
      "[[2003 2543  965 ... 2824 4259 1163]\n",
      " [   0    0    0 ...  621 1661 3409]\n",
      " [   0    0    0 ... 4326 4520 2612]\n",
      " ...\n",
      " [   0    0    0 ... 2783 1680 2745]\n",
      " [   0    0    0 ...  620 4259  301]\n",
      " [4343 1370 2759 ... 2225 2710 3530]]\n"
     ]
    }
   ],
   "source": [
    "sent_length=20\n",
    "embedded_docs=pad_sequences(onehot_repr,padding='pre',maxlen=sent_length)\n",
    "print(embedded_docs)"
   ]
  },
  {
   "cell_type": "code",
   "execution_count": 42,
   "metadata": {},
   "outputs": [
    {
     "data": {
      "text/plain": [
       "(8560, (8560,))"
      ]
     },
     "execution_count": 42,
     "metadata": {},
     "output_type": "execute_result"
    }
   ],
   "source": [
    "len(embedded_docs),y.shape"
   ]
  },
  {
   "cell_type": "code",
   "execution_count": 43,
   "metadata": {},
   "outputs": [
    {
     "name": "stderr",
     "output_type": "stream",
     "text": [
      "C:\\Users\\Zakee\\anaconda3\\lib\\site-packages\\ipykernel_launcher.py:1: SettingWithCopyWarning: \n",
      "A value is trying to be set on a copy of a slice from a DataFrame\n",
      "\n",
      "See the caveats in the documentation: https://pandas.pydata.org/pandas-docs/stable/user_guide/indexing.html#returning-a-view-versus-a-copy\n",
      "  \"\"\"Entry point for launching an IPython kernel.\n",
      "C:\\Users\\Zakee\\anaconda3\\lib\\site-packages\\ipykernel_launcher.py:2: SettingWithCopyWarning: \n",
      "A value is trying to be set on a copy of a slice from a DataFrame\n",
      "\n",
      "See the caveats in the documentation: https://pandas.pydata.org/pandas-docs/stable/user_guide/indexing.html#returning-a-view-versus-a-copy\n",
      "  \n"
     ]
    }
   ],
   "source": [
    "y[y == 'real'] = 1\n",
    "y[y == 'fake'] = 0"
   ]
  },
  {
   "cell_type": "code",
   "execution_count": 44,
   "metadata": {},
   "outputs": [],
   "source": [
    "X_final=np.array(embedded_docs)\n",
    "y_final=np.array(y)"
   ]
  },
  {
   "cell_type": "code",
   "execution_count": 45,
   "metadata": {},
   "outputs": [
    {
     "data": {
      "text/plain": [
       "((8560, 20), (8560,))"
      ]
     },
     "execution_count": 45,
     "metadata": {},
     "output_type": "execute_result"
    }
   ],
   "source": [
    "X_final.shape,y_final.shape"
   ]
  },
  {
   "cell_type": "markdown",
   "metadata": {},
   "source": [
    "* Splitting train and test dataset"
   ]
  },
  {
   "cell_type": "code",
   "execution_count": 68,
   "metadata": {},
   "outputs": [],
   "source": [
    "from sklearn.model_selection import train_test_split\n",
    "X_train, X_test, y_train, y_test = train_test_split(X_final, y_final, test_size=0.25, random_state=42)"
   ]
  },
  {
   "cell_type": "markdown",
   "metadata": {},
   "source": [
    "* Model Building"
   ]
  },
  {
   "cell_type": "code",
   "execution_count": 69,
   "metadata": {},
   "outputs": [
    {
     "name": "stdout",
     "output_type": "stream",
     "text": [
      "Model: \"sequential_5\"\n",
      "_________________________________________________________________\n",
      "Layer (type)                 Output Shape              Param #   \n",
      "=================================================================\n",
      "embedding_5 (Embedding)      (None, 20, 40)            200000    \n",
      "_________________________________________________________________\n",
      "lstm_5 (LSTM)                (None, 100)               56400     \n",
      "_________________________________________________________________\n",
      "dense_13 (Dense)             (None, 1)                 101       \n",
      "=================================================================\n",
      "Total params: 256,501\n",
      "Trainable params: 256,501\n",
      "Non-trainable params: 0\n",
      "_________________________________________________________________\n",
      "None\n"
     ]
    }
   ],
   "source": [
    "embedding_vector_features=40\n",
    "model=Sequential()\n",
    "model.add(Embedding(voc_size,embedding_vector_features,input_length=sent_length))\n",
    "model.add(LSTM(100))\n",
    "model.add(Dense(1,activation='sigmoid'))\n",
    "model.compile(loss='binary_crossentropy',optimizer='adam',metrics=['accuracy'])\n",
    "print(model.summary())"
   ]
  },
  {
   "cell_type": "code",
   "execution_count": 70,
   "metadata": {},
   "outputs": [
    {
     "name": "stdout",
     "output_type": "stream",
     "text": [
      "Train on 6420 samples, validate on 2140 samples\n",
      "Epoch 1/10\n",
      "6420/6420 [==============================] - 6s 873us/sample - loss: 0.4235 - acc: 0.8033 - val_loss: 0.2532 - val_acc: 0.8944\n",
      "Epoch 2/10\n",
      "6420/6420 [==============================] - 4s 683us/sample - loss: 0.1822 - acc: 0.9315 - val_loss: 0.2204 - val_acc: 0.9075\n",
      "Epoch 3/10\n",
      "6420/6420 [==============================] - 4s 631us/sample - loss: 0.0990 - acc: 0.9642 - val_loss: 0.2895 - val_acc: 0.9000\n",
      "Epoch 4/10\n",
      "6420/6420 [==============================] - 5s 812us/sample - loss: 0.0612 - acc: 0.9799 - val_loss: 0.3017 - val_acc: 0.9051\n",
      "Epoch 5/10\n",
      "6420/6420 [==============================] - 5s 792us/sample - loss: 0.0387 - acc: 0.9891 - val_loss: 0.3828 - val_acc: 0.9042\n",
      "Epoch 6/10\n",
      "6420/6420 [==============================] - 5s 811us/sample - loss: 0.0281 - acc: 0.9925 - val_loss: 0.3797 - val_acc: 0.9014\n",
      "Epoch 7/10\n",
      "6420/6420 [==============================] - 6s 861us/sample - loss: 0.0224 - acc: 0.9944 - val_loss: 0.4647 - val_acc: 0.9014\n",
      "Epoch 8/10\n",
      "6420/6420 [==============================] - 5s 841us/sample - loss: 0.0216 - acc: 0.9944 - val_loss: 0.5210 - val_acc: 0.8930\n",
      "Epoch 9/10\n",
      "6420/6420 [==============================] - 5s 772us/sample - loss: 0.0167 - acc: 0.9955 - val_loss: 0.5535 - val_acc: 0.8953\n",
      "Epoch 10/10\n",
      "6420/6420 [==============================] - 5s 716us/sample - loss: 0.0085 - acc: 0.9983 - val_loss: 0.4956 - val_acc: 0.8944\n"
     ]
    }
   ],
   "source": [
    "model.fit(X_train,y_train,validation_data=(X_test,y_test),epochs=10,batch_size=64)"
   ]
  },
  {
   "cell_type": "code",
   "execution_count": 71,
   "metadata": {},
   "outputs": [],
   "source": [
    "embedding_vector_features=40\n",
    "model=Sequential()\n",
    "model.add(Embedding(voc_size,embedding_vector_features,input_length=sent_length))\n",
    "model.add(Dropout(0.3))\n",
    "model.add(LSTM(100))\n",
    "model.add(Dropout(0.5))\n",
    "model.add(Dense(32, activation='sigmoid'))\n",
    "model.add(Dense(16, activation='sigmoid'))\n",
    "model.add(Dense(1,activation='sigmoid'))\n",
    "model.compile(loss='binary_crossentropy',optimizer='adam',metrics=['accuracy'])"
   ]
  },
  {
   "cell_type": "code",
   "execution_count": 72,
   "metadata": {},
   "outputs": [
    {
     "name": "stdout",
     "output_type": "stream",
     "text": [
      "Train on 6420 samples, validate on 2140 samples\n",
      "Epoch 1/10\n",
      "6420/6420 [==============================] - 6s 963us/sample - loss: 0.5649 - acc: 0.7371 - val_loss: 0.3650 - val_acc: 0.8762\n",
      "Epoch 2/10\n",
      "6420/6420 [==============================] - 5s 777us/sample - loss: 0.2822 - acc: 0.9090 - val_loss: 0.2807 - val_acc: 0.8939\n",
      "Epoch 3/10\n",
      "6420/6420 [==============================] - 4s 688us/sample - loss: 0.1836 - acc: 0.9456 - val_loss: 0.2530 - val_acc: 0.9037\n",
      "Epoch 4/10\n",
      "6420/6420 [==============================] - 4s 696us/sample - loss: 0.1262 - acc: 0.9654 - val_loss: 0.2699 - val_acc: 0.9042\n",
      "Epoch 5/10\n",
      "6420/6420 [==============================] - 5s 750us/sample - loss: 0.0926 - acc: 0.9765 - val_loss: 0.2755 - val_acc: 0.9056\n",
      "Epoch 6/10\n",
      "6420/6420 [==============================] - 5s 783us/sample - loss: 0.0730 - acc: 0.9816 - val_loss: 0.3591 - val_acc: 0.8949\n",
      "Epoch 7/10\n",
      "6420/6420 [==============================] - 5s 783us/sample - loss: 0.0718 - acc: 0.9819 - val_loss: 0.3051 - val_acc: 0.9009\n",
      "Epoch 8/10\n",
      "6420/6420 [==============================] - 6s 860us/sample - loss: 0.0536 - acc: 0.9882 - val_loss: 0.3255 - val_acc: 0.9019\n",
      "Epoch 9/10\n",
      "6420/6420 [==============================] - 5s 793us/sample - loss: 0.0424 - acc: 0.9916 - val_loss: 0.3584 - val_acc: 0.8953\n",
      "Epoch 10/10\n",
      "6420/6420 [==============================] - 5s 829us/sample - loss: 0.0422 - acc: 0.9902 - val_loss: 0.3695 - val_acc: 0.8930\n"
     ]
    },
    {
     "data": {
      "text/plain": [
       "<tensorflow.python.keras.callbacks.History at 0x3094cec8>"
      ]
     },
     "execution_count": 72,
     "metadata": {},
     "output_type": "execute_result"
    }
   ],
   "source": [
    "model.fit(X_train,y_train,validation_data=(X_test,y_test),epochs=10,batch_size=64)"
   ]
  },
  {
   "cell_type": "code",
   "execution_count": 73,
   "metadata": {},
   "outputs": [],
   "source": [
    "embedding_vector_features=40\n",
    "model=Sequential()\n",
    "model.add(Embedding(voc_size,embedding_vector_features,input_length=sent_length))\n",
    "model.add(Dropout(0.3))\n",
    "model.add(Bidirectional(LSTM(100)))\n",
    "model.add(Dropout(0.5))\n",
    "model.add(Dense(32, activation='sigmoid'))\n",
    "model.add(Dense(16, activation='sigmoid'))\n",
    "model.add(Dense(1,activation='sigmoid'))\n",
    "model.compile(loss='binary_crossentropy',optimizer='adam',metrics=['accuracy'])"
   ]
  },
  {
   "cell_type": "code",
   "execution_count": 81,
   "metadata": {},
   "outputs": [
    {
     "name": "stdout",
     "output_type": "stream",
     "text": [
      "Train on 6420 samples, validate on 2140 samples\n",
      "Epoch 1/10\n",
      "6420/6420 [==============================] - 9s 1ms/sample - loss: 0.0476 - acc: 0.9913 - val_loss: 0.4032 - val_acc: 0.8916\n",
      "Epoch 2/10\n",
      "6420/6420 [==============================] - 10s 1ms/sample - loss: 0.0464 - acc: 0.9910 - val_loss: 0.4320 - val_acc: 0.8907\n",
      "Epoch 3/10\n",
      "6420/6420 [==============================] - 10s 1ms/sample - loss: 0.0483 - acc: 0.9900 - val_loss: 0.3460 - val_acc: 0.8939\n",
      "Epoch 4/10\n",
      "6420/6420 [==============================] - 10s 2ms/sample - loss: 0.0428 - acc: 0.9913 - val_loss: 0.4431 - val_acc: 0.8864\n",
      "Epoch 5/10\n",
      "6420/6420 [==============================] - 9s 1ms/sample - loss: 0.0404 - acc: 0.9924 - val_loss: 0.4605 - val_acc: 0.8860\n",
      "Epoch 6/10\n",
      "6420/6420 [==============================] - 9s 1ms/sample - loss: 0.0385 - acc: 0.9921 - val_loss: 0.4750 - val_acc: 0.8832\n",
      "Epoch 7/10\n",
      "6420/6420 [==============================] - 10s 2ms/sample - loss: 0.0398 - acc: 0.9913 - val_loss: 0.5159 - val_acc: 0.8785\n",
      "Epoch 8/10\n",
      "6420/6420 [==============================] - 10s 2ms/sample - loss: 0.0342 - acc: 0.9935 - val_loss: 0.4671 - val_acc: 0.8846\n",
      "Epoch 9/10\n",
      "6420/6420 [==============================] - 11s 2ms/sample - loss: 0.0322 - acc: 0.9942 - val_loss: 0.4378 - val_acc: 0.8902\n",
      "Epoch 10/10\n",
      "6420/6420 [==============================] - 10s 2ms/sample - loss: 0.0363 - acc: 0.9927 - val_loss: 0.4748 - val_acc: 0.8818\n"
     ]
    }
   ],
   "source": [
    "history1=model.fit(X_train,y_train,validation_data=(X_test,y_test),epochs=10,batch_size=64)"
   ]
  },
  {
   "cell_type": "code",
   "execution_count": 75,
   "metadata": {},
   "outputs": [],
   "source": [
    "y_pred=model.predict_classes(X_test)\n",
    "j=[]\n",
    "for i in y_test:\n",
    "    j.append(i)"
   ]
  },
  {
   "cell_type": "markdown",
   "metadata": {},
   "source": [
    "* Confusion matrix"
   ]
  },
  {
   "cell_type": "code",
   "execution_count": 76,
   "metadata": {},
   "outputs": [],
   "source": [
    "confusion_matrix(j,y_pred)\n",
    "accuracy_score(j,y_pred)"
   ]
  },
  {
   "cell_type": "markdown",
   "metadata": {},
   "source": [
    "* Bias Variance tradeoff"
   ]
  },
  {
   "cell_type": "code",
   "execution_count": 82,
   "metadata": {},
   "outputs": [
    {
     "data": {
      "image/png": "[encoded data removed]",
      "text/plain": [
       "<Figure size 432x288 with 1 Axes>"
      ]
     },
     "metadata": {
      "needs_background": "light"
     },
     "output_type": "display_data"
    },
    {
     "name": "stdout",
     "output_type": "stream",
     "text": [
      "[[912 120]\n",
      " [115 993]]\n",
      "              precision    recall  f1-score   support\n",
      "\n",
      "           0       0.89      0.88      0.89      1032\n",
      "           1       0.89      0.90      0.89      1108\n",
      "\n",
      "    accuracy                           0.89      2140\n",
      "   macro avg       0.89      0.89      0.89      2140\n",
      "weighted avg       0.89      0.89      0.89      2140\n",
      "\n",
      "Accuracy :  0.8901869158878505\n",
      "Precison :  0.890216094523479\n",
      "Recall :  0.8901869158878505\n",
      "F1 :  0.8901966412147208\n"
     ]
    },
    {
     "data": {
      "image/png": "[encoded data removed]",
      "text/plain": [
       "<Figure size 360x288 with 2 Axes>"
      ]
     },
     "metadata": {
      "needs_background": "light"
     },
     "output_type": "display_data"
    }
   ],
   "source": [
    "plt.plot(history1.history['acc'])\n",
    "plt.plot(history1.history['val_acc'])\n",
    "plt.title('model train vs accuracy')\n",
    "plt.ylabel('accuracy')\n",
    "plt.xlabel('epoch')\n",
    "plt.ylim(0,1.05)\n",
    "plt.legend(['train', 'validation'], loc='upper right')\n",
    "plt.show()\n",
    "print_metrices(j,y_pred)\n",
    "plot_confusion_matrix(confusion_matrix(j,y_pred),target_names=['fake','real'], normalize = False, title = 'Confusion matix of LSTM on val data')"
   ]
  }
 ],
 "metadata": {
  "kernelspec": {
   "display_name": "Python 3",
   "language": "python",
   "name": "python3"
  },
  "language_info": {
   "codemirror_mode": {
    "name": "ipython",
    "version": 3
   },
   "file_extension": ".py",
   "mimetype": "text/x-python",
   "name": "python",
   "nbconvert_exporter": "python",
   "pygments_lexer": "ipython3",
   "version": "3.8.3"
  }
 },
 "nbformat": 4,
 "nbformat_minor": 4
}
